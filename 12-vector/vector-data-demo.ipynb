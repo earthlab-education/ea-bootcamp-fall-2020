{
 "cells": [
  {
   "cell_type": "code",
   "execution_count": null,
   "metadata": {
    "slideshow": {
     "slide_type": "slide"
    }
   },
   "outputs": [],
   "source": [
    "# Import libraries\n",
    "import rasterio as rio\n",
    "import os\n",
    "import numpy as np\n",
    "import matplotlib.pyplot as plt\n",
    "import geopandas as gpd\n",
    "import rasterio as rio\n",
    "import earthpy as et\n",
    "\n",
    "# Get data\n",
    "et.data.get_data(\"spatial-vector-lidar\")\n",
    "os.chdir(os.path.join(et.io.HOME,\n",
    "                      \"earth-analytics\",\n",
    "                      \"data\"))"
   ]
  },
  {
   "cell_type": "code",
   "execution_count": null,
   "metadata": {},
   "outputs": [],
   "source": [
    "# Get help -- just a reminder to check the expected parameter input types.\n",
    "help(gpd.clip)"
   ]
  },
  {
   "cell_type": "markdown",
   "metadata": {},
   "source": [
    "## Open a shapefile Using Geopandas\n",
    "Remember that we are working with VECTOR data this week which is different than raster data in it's structure. \n",
    "We will use GeoPandas for vector data. Geopandas data structures are very similar to pandas! they have additional spatial attributes associated with them. \n"
   ]
  },
  {
   "cell_type": "code",
   "execution_count": null,
   "metadata": {},
   "outputs": [],
   "source": [
    "base_data_path = os.path.join(\"spatial-vector-lidar\")\n",
    "cali_data_path = os.path.join(base_data_path, \"california\")\n",
    "\n",
    "plot_centroid_path = os.path.join(cali_data_path,\n",
    "                                  \"neon-sjer-site\", \"vector_data\", \"SJER_plot_centroids.shp\")\n",
    "\n",
    "# Open a shapefile using geopandas\n",
    "sjer_plot_locations = gpd.read_file(plot_centroid_path)\n",
    "\n",
    "# View data attributes\n",
    "sjer_plot_locations.head()"
   ]
  },
  {
   "cell_type": "markdown",
   "metadata": {},
   "source": [
    "Explore your data.\n",
    "You will find many of the same spatial attributes in vector data as you did \n",
    "raster data. "
   ]
  },
  {
   "cell_type": "code",
   "execution_count": null,
   "metadata": {},
   "outputs": [],
   "source": [
    "type(sjer_plot_locations)"
   ]
  },
  {
   "cell_type": "code",
   "execution_count": null,
   "metadata": {},
   "outputs": [],
   "source": [
    "# View the spatial extent of the data\n",
    "sjer_plot_locations.total_bounds"
   ]
  },
  {
   "cell_type": "code",
   "execution_count": null,
   "metadata": {},
   "outputs": [],
   "source": [
    "sjer_plot_locations.crs"
   ]
  },
  {
   "cell_type": "code",
   "execution_count": null,
   "metadata": {},
   "outputs": [],
   "source": [
    "# Check to see if your data are points, line or polygons\n",
    "sjer_plot_locations.geom_type"
   ]
  },
  {
   "cell_type": "code",
   "execution_count": null,
   "metadata": {},
   "outputs": [],
   "source": [
    "# You can plot directly using the .plot() method\n",
    "sjer_plot_locations.plot()"
   ]
  },
  {
   "cell_type": "code",
   "execution_count": null,
   "metadata": {},
   "outputs": [],
   "source": [
    "# Plot using Matplotlib\n",
    "# Note that this works well with one layer\n",
    "# But for multiple layers if you want a legend, you\n",
    "# will want to create a loop to customize colors and labels\n",
    "fig, ax1 = plt.subplots()\n",
    "sjer_plot_locations.plot(ax=ax1,\n",
    "                         column=\"plot_type\",\n",
    "                         legend=True,\n",
    "                         cmap=\"Set2\")\n",
    "plt.show()"
   ]
  },
  {
   "cell_type": "code",
   "execution_count": null,
   "metadata": {},
   "outputs": [],
   "source": [
    "# View object shape\n",
    "sjer_plot_locations.shape"
   ]
  },
  {
   "cell_type": "code",
   "execution_count": null,
   "metadata": {},
   "outputs": [],
   "source": [
    "np.unique(sjer_plot_locations.plot_type)"
   ]
  },
  {
   "cell_type": "markdown",
   "metadata": {},
   "source": [
    "To plot several layers with custom symbology, you can create a loop."
   ]
  },
  {
   "cell_type": "code",
   "execution_count": null,
   "metadata": {},
   "outputs": [],
   "source": [
    "# Create a symbology dictionary that maps \"type\" to color. In this case the types are trees, grass and soil\n",
    "points_symb = {'trees': 'chartreuse',\n",
    "               'grass': 'darkgreen',\n",
    "               'soil': 'burlywood'}\n",
    "\n",
    "# Plot Data\n",
    "fig, ax = plt.subplots(figsize=(5, 5))\n",
    "ax.set_axis_off()\n",
    "\n",
    "# Add the plot points in sets grouped by plot_type\n",
    "for ctype, sjer_plot in sjer_plot_locations.groupby('plot_type'):\n",
    "    color = points_symb[ctype]\n",
    "    label = ctype\n",
    "    sjer_plot.plot(color=color,\n",
    "                   ax=ax,\n",
    "                   label=label,\n",
    "                   markersize=50)\n",
    "\n",
    "# For your homework you'll want to add roads to this plot.\n",
    "# Be sure the data are in the correct CRS prior to plotting to ensure things line up!\n",
    "\n",
    "# Add a legend\n",
    "ax.legend()\n",
    "plt.show()"
   ]
  },
  {
   "cell_type": "markdown",
   "metadata": {},
   "source": [
    "## Challenge - break down the Plot Loop Above\n",
    "\n",
    "Break down the  for loop above to figure out what each object in the loop  is"
   ]
  },
  {
   "cell_type": "code",
   "execution_count": null,
   "metadata": {},
   "outputs": [],
   "source": [
    "# Play around with this\n",
    "for an_object in sjer_plot_locations.groupby('plot_type'):\n",
    "    an_object\n",
    "\n",
    "an_object"
   ]
  },
  {
   "cell_type": "code",
   "execution_count": null,
   "metadata": {},
   "outputs": [],
   "source": [
    "for cat, df in sjer_plot_locations.groupby('plot_type'):\n",
    "    cat\n",
    "\n",
    "cat"
   ]
  },
  {
   "cell_type": "markdown",
   "metadata": {},
   "source": [
    "## Reproject Vector Data in Python\n",
    "\n",
    "Next let's have a look at the roads data. Remember that you are creating a map of roads and points together. "
   ]
  },
  {
   "cell_type": "code",
   "execution_count": null,
   "metadata": {},
   "outputs": [],
   "source": [
    "# Import the data\n",
    "sjer_roads_path = os.path.join(cali_data_path,\n",
    "                               \"madera-county-roads\",\n",
    "                               \"tl_2013_06039_roads.shp\")\n",
    "sjer_roads = gpd.read_file(sjer_roads_path)\n",
    "\n",
    "sjer_aoi_path = os.path.join(cali_data_path,\n",
    "                             \"neon-sjer-site\",\n",
    "                             \"vector_data\",\n",
    "                             \"SJER_crop.shp\")\n",
    "\n",
    "sjer_aoi = gpd.read_file(sjer_aoi_path)\n",
    "\n",
    "# Are the crs' the same for the two datasets?\n",
    "sjer_aoi.crs, sjer_roads.crs"
   ]
  },
  {
   "cell_type": "code",
   "execution_count": null,
   "metadata": {},
   "outputs": [],
   "source": [
    "# Formally that they are the same (or not)\n",
    "try:\n",
    "    assert sjer_aoi.crs == sjer_roads.crs\n",
    "    print(\"The CRS' for both datasets are the same. You can clip the data\")\n",
    "except AssertionError as message:\n",
    "    print(\"The CRS' are not the same. Looks like you need to reproject one of the datasets to clip.\")"
   ]
  },
  {
   "cell_type": "markdown",
   "metadata": {},
   "source": [
    " Notice that if you attempt to plot two datasets that are in different CRS' you will run into issues.\n",
    " It technically \"works\" but the data do not line up properly"
   ]
  },
  {
   "cell_type": "code",
   "execution_count": null,
   "metadata": {},
   "outputs": [],
   "source": [
    "# Plot with the data in diff CRS\n",
    "fig, ax1 = plt.subplots()\n",
    "sjer_aoi.plot(ax=ax1)\n",
    "sjer_roads.plot(ax=ax1)\n",
    "plt.show()"
   ]
  },
  {
   "cell_type": "code",
   "execution_count": null,
   "metadata": {},
   "outputs": [],
   "source": [
    "# Reproject the data by typing out the CRS\n",
    "sjer_aoi_wgs84 = sjer_aoi.to_crs(epsg=4269)"
   ]
  },
  {
   "cell_type": "code",
   "execution_count": null,
   "metadata": {},
   "outputs": [],
   "source": [
    "# Easier way if you have a layer that you want to match the CRS of\n",
    "sjer_aoi_4269 = sjer_aoi.to_crs(sjer_roads.crs)\n",
    "\n",
    "sjer_aoi_4269.crs, sjer_roads.crs"
   ]
  },
  {
   "cell_type": "code",
   "execution_count": null,
   "metadata": {},
   "outputs": [],
   "source": [
    "# Formally that they are the same (or not)\n",
    "try:\n",
    "    assert sjer_aoi_4269.crs == sjer_roads.crs\n",
    "    print(\"The CRS' for both datasets are the same. You can clip the data\")\n",
    "except AssertionError as message:\n",
    "    print(\"The CRS' are not the same. Looks like you need to reproject one of the datasets to clip.\")"
   ]
  },
  {
   "cell_type": "markdown",
   "metadata": {},
   "source": [
    "Now the data line up properly! Now you can clip the data!\n",
    "A nice way to understand CRS's is to look at the numeric values associated with the x and y locations. you will\n",
    "then better understand why a plot looks off (like the example above when you tried to plot two datasets in two different CRS'. They are data from the same location but the CRS differences cause issues with processing the data together."
   ]
  },
  {
   "cell_type": "code",
   "execution_count": null,
   "metadata": {},
   "outputs": [],
   "source": [
    "# plot with the data in diff CRS\n",
    "fig, ax = plt.subplots(figsize=(10, 10))\n",
    "# zorder to adjust the order\n",
    "sjer_roads.plot(ax=ax)\n",
    "sjer_aoi_4269.plot(ax=ax,\n",
    "                   color=\"black\",\n",
    "                   zorder=10)\n",
    "plt.show()"
   ]
  },
  {
   "cell_type": "markdown",
   "metadata": {},
   "source": [
    "## Clip Data\n",
    "Sometimes you will hear clip and sometimes you will here crop. the idea here is similar to what you discovered with the raster data. you can clip the data to the extent of another dataset. This is nice when you want to only work with a smaller amount of data. It can reduce processing time. It also can make a map look nicer if you are focused only on one particular region but have data outside of the region. "
   ]
  },
  {
   "cell_type": "code",
   "execution_count": null,
   "metadata": {},
   "outputs": [],
   "source": [
    "clipped_roads = gpd.clip(sjer_roads, sjer_aoi_wgs84)\n",
    "clipped_roads.plot()"
   ]
  },
  {
   "cell_type": "code",
   "execution_count": null,
   "metadata": {},
   "outputs": [],
   "source": [
    "# Import data\n",
    "country_boundary_us_path = os.path.join(base_data_path,\n",
    "                                        \"usa\",\n",
    "                                        \"usa-boundary-dissolved.shp\")\n",
    "country_boundary_us = gpd.read_file(country_boundary_us_path)\n",
    "\n",
    "state_boundary_us_path = os.path.join(base_data_path,\n",
    "                                      \"usa\",\n",
    "                                      \"usa-states-census-2014.shp\")\n",
    "state_boundary_us = gpd.read_file(state_boundary_us_path)\n",
    "\n",
    "pop_places_path = os.path.join(base_data_path,\n",
    "                               \"global\",\n",
    "                               \"ne_110m_populated_places_simple\",\n",
    "                               \"ne_110m_populated_places_simple.shp\")\n",
    "pop_places = gpd.read_file(pop_places_path)\n",
    "\n",
    "# Do the data have the same crs?\n",
    "country_boundary_us.crs, state_boundary_us.crs, pop_places.crs"
   ]
  },
  {
   "cell_type": "code",
   "execution_count": null,
   "metadata": {},
   "outputs": [],
   "source": [
    "f, ax = plt.subplots()\n",
    "pop_places.plot(ax=ax)\n",
    "state_boundary_us.plot(ax=ax,\n",
    "                       color=\"black\")\n",
    "plt.show()"
   ]
  },
  {
   "cell_type": "code",
   "execution_count": null,
   "metadata": {
    "slideshow": {
     "slide_type": "slide"
    }
   },
   "outputs": [],
   "source": [
    "pop_places_clip = gpd.clip(pop_places, country_boundary_us)\n",
    "\n",
    "# Plot the data in 2 frames or axes\n",
    "fig, (ax1, ax2) = plt.subplots(2, 1, figsize=(10, 8))\n",
    "country_boundary_us.plot(ax=ax1,\n",
    "                         color=\"y\")\n",
    "pop_places_clip.plot(ax=ax1)\n",
    "pop_places.plot(ax=ax2)\n",
    "country_boundary_us.plot(ax=ax2,\n",
    "                         color=\"y\")\n",
    "ax1.set_title('Clipped data')\n",
    "ax2.set_title('Unclipped data')\n",
    "plt.show()"
   ]
  },
  {
   "cell_type": "code",
   "execution_count": null,
   "metadata": {},
   "outputs": [],
   "source": [
    "state_boundary_us.plot()\n",
    "# View dataframe\n",
    "state_boundary_us.head()"
   ]
  },
  {
   "cell_type": "markdown",
   "metadata": {},
   "source": [
    "## Dissolve States to Regions Using  Spatial  Attributes\n",
    "\n",
    "\n"
   ]
  },
  {
   "cell_type": "code",
   "execution_count": null,
   "metadata": {},
   "outputs": [],
   "source": [
    "# Dissolve the data by the \"region\" column\n",
    "us_regions = state_boundary_us.dissolve(by=\"region\")\n",
    "\n",
    "# Plot the dissolved data\n",
    "us_regions.plot(color=\"black\",\n",
    "                figsize=(10, 10),\n",
    "                linewidth=2,\n",
    "                edgecolor=\"white\")\n",
    "\n",
    "plt.show()"
   ]
  },
  {
   "cell_type": "code",
   "execution_count": null,
   "metadata": {},
   "outputs": [],
   "source": [
    "us_regions['coords'] = us_regions['geometry'].apply(\n",
    "    lambda x: x.representative_point().coords[:])\n",
    "us_regions['coords'] = [us_regions[0] for us_regions in us_regions['coords']]\n",
    "us_regions"
   ]
  },
  {
   "cell_type": "markdown",
   "metadata": {},
   "source": [
    "## OPTIONAL: Add  labels to your map\n",
    "\n",
    "We won't review this in class but  you can see how the code below works if you wish."
   ]
  },
  {
   "cell_type": "code",
   "execution_count": null,
   "metadata": {},
   "outputs": [],
   "source": [
    "# Plot the dissolved data\n",
    "f, ax = plt.subplots()\n",
    "us_regions.plot(color=\"black\",\n",
    "                figsize=(10, 10),\n",
    "                linewidth=2,\n",
    "                edgecolor=\"white\",\n",
    "                ax=ax)\n",
    "# This loop is ONLY if you want to  add labels\n",
    "# You can ignore this code i f you dont wish to add labels to your map!\n",
    "for idx, row in us_regions.reset_index().iterrows():\n",
    "    plt.annotate(text=row.region,\n",
    "                 xy=row.coords,\n",
    "                 horizontalalignment='center',\n",
    "                 color=\"white\")\n",
    "plt.show()"
   ]
  },
  {
   "cell_type": "markdown",
   "metadata": {},
   "source": [
    "## Dissolve And Aggregate\n",
    "\n",
    "When you dissolve the data, what happens to the attribute values in each column?\n",
    "For each region you have 2 or more states that each have data. That data can\n",
    "be summarized in different ways\n",
    "\n",
    "You can control how the values are summarized using the `.agg` function."
   ]
  },
  {
   "cell_type": "code",
   "execution_count": null,
   "metadata": {},
   "outputs": [],
   "source": [
    "us_regions.head()"
   ]
  },
  {
   "cell_type": "code",
   "execution_count": null,
   "metadata": {},
   "outputs": [],
   "source": []
  },
  {
   "cell_type": "code",
   "execution_count": null,
   "metadata": {},
   "outputs": [],
   "source": [
    "# Aggregate the data  - calculate the mean  and sum for eachc olumn. Note that\n",
    "# Some of th e columns are dropped in this  case because pythoond oesn't\n",
    "# know how to summarize certain  column types\n",
    "us_regions = state_boundary_us.dissolve(by=\"region\",\n",
    "                                        aggfunc=[\"mean\", \"sum\"])\n",
    "us_regions.head()"
   ]
  },
  {
   "cell_type": "code",
   "execution_count": null,
   "metadata": {},
   "outputs": [],
   "source": [
    "# Create a dictionary that maps a column header to a summary type\n",
    "# This allows you to be more specific about how each column is summarized\n",
    "# If you wnated to summarize \"ALAND\" by mean and sum you can use a dictionary / list entry like this:\n",
    "# \"ALAND\": [\"mean\", \"sum\"]\n",
    "\n",
    "sum_type = {\"ALAND\": \"mean\",\n",
    "            \"AWATER\": \"sum\",\n",
    "            # Grab the first value and assign to the column\n",
    "            \"STATEFP\": \"first\"}\n",
    "\n",
    "us_regions = state_boundary_us.dissolve(by=\"region\",\n",
    "                                        aggfunc=sum_type)\n",
    "us_regions.head()"
   ]
  },
  {
   "cell_type": "markdown",
   "metadata": {},
   "source": [
    "## Spatial Joins - Join Attributes From One  Shapefile To Another Shapefile\n",
    "\n",
    "Use sjoin to join attributes to roads. In the example below, you want to assign \n",
    "each road a region name so you can summarize the roads data by region."
   ]
  },
  {
   "cell_type": "code",
   "execution_count": null,
   "metadata": {},
   "outputs": [],
   "source": [
    "#\n",
    "roads_region = gpd.sjoin(roads_cl,  # The layer that you wish to add attributes to\n",
    "                         us_regions,  # The layer that you wish to take attributes from\n",
    "                         op=\"intersects\") # If the geometries overlap,  then assign the attributes\n",
    "roads_region.head(3)"
   ]
  },
  {
   "cell_type": "code",
   "execution_count": null,
   "metadata": {},
   "outputs": [],
   "source": [
    "# Plot the roads  by region\n",
    "# Note th at  each road is now assigned a region value based upon it's spatial location\n",
    "roads_region.plot(column=\"index_right\")"
   ]
  },
  {
   "cell_type": "markdown",
   "metadata": {},
   "source": [
    "##  Open the Roads Layer - Complex  Geometries\n",
    "\n",
    "Open the global roads layer. Note that this layer takes some time to plot  as\n",
    "it has a lot of features in it."
   ]
  },
  {
   "cell_type": "code",
   "execution_count": null,
   "metadata": {},
   "outputs": [],
   "source": [
    "roads_path = os.path.join(\"spatial-vector-lidar\",\n",
    "                          \"global\",\n",
    "                          \"ne_10m_roads\",\n",
    "                          \"ne_10m_roads.shp\")\n",
    "roads = gpd.read_file(roads_path)\n",
    "roads.plot()"
   ]
  },
  {
   "cell_type": "code",
   "execution_count": null,
   "metadata": {},
   "outputs": [],
   "source": [
    "%time\n",
    "\n",
    "# Clip the roads layer\n",
    "country_boundary_us_sim = country_boundary_us.simplify(.2,\n",
    "                                                       preserve_topology=True)\n",
    "roads_cl = gpd.clip(roads,\n",
    "                    country_boundary_us_sim)"
   ]
  },
  {
   "cell_type": "code",
   "execution_count": null,
   "metadata": {},
   "outputs": [],
   "source": [
    "%time\n",
    "\n",
    "# Clip the roads layer when it's not simplified - notice how much slower it is.\n",
    "# NOTE - this takes a LONG time to run  so proceed with caution\n",
    "# roads_cl = gpd.clip(roads,\n",
    "#                     country_boundary_us)"
   ]
  },
  {
   "cell_type": "code",
   "execution_count": null,
   "metadata": {},
   "outputs": [],
   "source": [
    "# Plot the clipped roads\n",
    "roads_cl.plot()"
   ]
  }
 ],
 "metadata": {
  "celltoolbar": "Slideshow",
  "kernelspec": {
   "display_name": "Python 3",
   "language": "python",
   "name": "python3"
  },
  "language_info": {
   "codemirror_mode": {
    "name": "ipython",
    "version": 3
   },
   "file_extension": ".py",
   "mimetype": "text/x-python",
   "name": "python",
   "nbconvert_exporter": "python",
   "pygments_lexer": "ipython3",
   "version": "3.8.5"
  },
  "toc": {
   "base_numbering": 1,
   "nav_menu": {},
   "number_sections": true,
   "sideBar": true,
   "skip_h1_title": false,
   "title_cell": "Table of Contents",
   "title_sidebar": "Contents",
   "toc_cell": false,
   "toc_position": {},
   "toc_section_display": true,
   "toc_window_display": false
  }
 },
 "nbformat": 4,
 "nbformat_minor": 2
}
